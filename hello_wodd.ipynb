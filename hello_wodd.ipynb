{
 "cells": [
  {
   "cell_type": "code",
   "execution_count": 2,
   "id": "59f81c92-b32c-48c0-b6ea-39794ee34314",
   "metadata": {},
   "outputs": [
    {
     "name": "stdout",
     "output_type": "stream",
     "text": [
      "helo wodd\n"
     ]
    }
   ],
   "source": [
    "print (\"helo wodd\")\n"
   ]
  },
  {
   "cell_type": "code",
   "execution_count": 1,
   "id": "f2f284cf-aa5a-426c-a831-2c806bd7bb75",
   "metadata": {},
   "outputs": [
    {
     "name": "stdout",
     "output_type": "stream",
     "text": [
      "perubahan\n"
     ]
    }
   ],
   "source": [
    "print('perubahan')"
   ]
  },
  {
   "cell_type": "code",
   "execution_count": 1,
   "id": "d5b5682b-15f2-4922-8f7a-7c0dea05809c",
   "metadata": {},
   "outputs": [
    {
     "name": "stdout",
     "output_type": "stream",
     "text": [
      "ubah ke brach develop\n"
     ]
    }
   ],
   "source": [
    "print(\"ubah ke brach develop\")"
   ]
  },
  {
   "cell_type": "markdown",
   "id": "92ac424b-d7e5-4ba6-8f76-f5473e8253ee",
   "metadata": {},
   "source": [
    "ubah ubah\n"
   ]
  },
  {
   "cell_type": "code",
   "execution_count": null,
   "id": "6de6f0e4-7a96-429a-982e-5d3fe63eb9e3",
   "metadata": {},
   "outputs": [],
   "source": []
  }
 ],
 "metadata": {
  "kernelspec": {
   "display_name": "Python 3 (ipykernel)",
   "language": "python",
   "name": "python3"
  },
  "language_info": {
   "codemirror_mode": {
    "name": "ipython",
    "version": 3
   },
   "file_extension": ".py",
   "mimetype": "text/x-python",
   "name": "python",
   "nbconvert_exporter": "python",
   "pygments_lexer": "ipython3",
   "version": "3.9.13"
  }
 },
 "nbformat": 4,
 "nbformat_minor": 5
}
