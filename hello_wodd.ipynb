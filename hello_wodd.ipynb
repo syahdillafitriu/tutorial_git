{
 "cells": [
  {
   "cell_type": "code",
   "execution_count": 2,
   "id": "59f81c92-b32c-48c0-b6ea-39794ee34314",
   "metadata": {},
   "outputs": [
    {
     "name": "stdout",
     "output_type": "stream",
     "text": [
      "helo wodd\n"
     ]
    }
   ],
   "source": [
    "print (\"helo wodd\")\n"
   ]
  },
  {
   "cell_type": "code",
   "execution_count": null,
   "id": "f2f284cf-aa5a-426c-a831-2c806bd7bb75",
   "metadata": {},
   "outputs": [],
   "source": []
  }
 ],
 "metadata": {
  "kernelspec": {
   "display_name": "Python 3 (ipykernel)",
   "language": "python",
   "name": "python3"
  },
  "language_info": {
   "codemirror_mode": {
    "name": "ipython",
    "version": 3
   },
   "file_extension": ".py",
   "mimetype": "text/x-python",
   "name": "python",
   "nbconvert_exporter": "python",
   "pygments_lexer": "ipython3",
   "version": "3.9.13"
  }
 },
 "nbformat": 4,
 "nbformat_minor": 5
}
